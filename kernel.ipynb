{
  "cells": [
    {
      "metadata": {
        "trusted": true,
        "_uuid": "dd89d1731b883a60d59dc15bd9316ef2a5bbfc71"
      },
      "cell_type": "code",
      "source": "import pandas as pd",
      "execution_count": 82,
      "outputs": []
    },
    {
      "metadata": {
        "trusted": true,
        "_uuid": "5f00397d63662ca75e464489ac6ed4eb192c53d2"
      },
      "cell_type": "markdown",
      "source": "### Let's Do Demographic Filtering (Based on popularity and scores calculated via imdb formula)"
    },
    {
      "metadata": {
        "trusted": true,
        "_uuid": "6e14a9f8a69303ab5737dc2d2dafb35ba254b7cf"
      },
      "cell_type": "code",
      "source": "df1 = pd.read_csv('../input/tmdb_5000_credits.csv')\ndf2 = pd.read_csv('../input/tmdb_5000_movies.csv')",
      "execution_count": 83,
      "outputs": []
    },
    {
      "metadata": {
        "trusted": true,
        "_uuid": "45aebf88fe889f423f4915a1d56120c99b0e5c97",
        "_kg_hide-output": true,
        "scrolled": true
      },
      "cell_type": "code",
      "source": "print (df1.info())\nprint (df2.info())",
      "execution_count": 84,
      "outputs": [
        {
          "output_type": "stream",
          "text": "<class 'pandas.core.frame.DataFrame'>\nRangeIndex: 4803 entries, 0 to 4802\nData columns (total 4 columns):\nmovie_id    4803 non-null int64\ntitle       4803 non-null object\ncast        4803 non-null object\ncrew        4803 non-null object\ndtypes: int64(1), object(3)\nmemory usage: 150.2+ KB\nNone\n<class 'pandas.core.frame.DataFrame'>\nRangeIndex: 4803 entries, 0 to 4802\nData columns (total 20 columns):\nbudget                  4803 non-null int64\ngenres                  4803 non-null object\nhomepage                1712 non-null object\nid                      4803 non-null int64\nkeywords                4803 non-null object\noriginal_language       4803 non-null object\noriginal_title          4803 non-null object\noverview                4800 non-null object\npopularity              4803 non-null float64\nproduction_companies    4803 non-null object\nproduction_countries    4803 non-null object\nrelease_date            4802 non-null object\nrevenue                 4803 non-null int64\nruntime                 4801 non-null float64\nspoken_languages        4803 non-null object\nstatus                  4803 non-null object\ntagline                 3959 non-null object\ntitle                   4803 non-null object\nvote_average            4803 non-null float64\nvote_count              4803 non-null int64\ndtypes: float64(3), int64(4), object(13)\nmemory usage: 750.5+ KB\nNone\n",
          "name": "stdout"
        }
      ]
    },
    {
      "metadata": {
        "trusted": true,
        "_uuid": "36eac4aa4c228942a514259e865914edc7408f6d"
      },
      "cell_type": "code",
      "source": "# Merge the two dataframes based on id\ndf1.columns = ['id','title','cast','crew']\ndf2 = df2.merge(df1, on='id')",
      "execution_count": 85,
      "outputs": []
    },
    {
      "metadata": {
        "trusted": true,
        "_uuid": "64f2a6412f63e6181e7db35914975a97a8ceeaec"
      },
      "cell_type": "code",
      "source": "df2.head(3)",
      "execution_count": 86,
      "outputs": [
        {
          "output_type": "execute_result",
          "execution_count": 86,
          "data": {
            "text/plain": "      budget                        ...                                                                       crew\n0  237000000                        ...                          [{\"credit_id\": \"52fe48009251416c750aca23\", \"de...\n1  300000000                        ...                          [{\"credit_id\": \"52fe4232c3a36847f800b579\", \"de...\n2  245000000                        ...                          [{\"credit_id\": \"54805967c3a36829b5002c41\", \"de...\n\n[3 rows x 23 columns]",
            "text/html": "<div>\n<style scoped>\n    .dataframe tbody tr th:only-of-type {\n        vertical-align: middle;\n    }\n\n    .dataframe tbody tr th {\n        vertical-align: top;\n    }\n\n    .dataframe thead th {\n        text-align: right;\n    }\n</style>\n<table border=\"1\" class=\"dataframe\">\n  <thead>\n    <tr style=\"text-align: right;\">\n      <th></th>\n      <th>budget</th>\n      <th>genres</th>\n      <th>homepage</th>\n      <th>id</th>\n      <th>keywords</th>\n      <th>original_language</th>\n      <th>original_title</th>\n      <th>overview</th>\n      <th>popularity</th>\n      <th>production_companies</th>\n      <th>production_countries</th>\n      <th>release_date</th>\n      <th>revenue</th>\n      <th>runtime</th>\n      <th>spoken_languages</th>\n      <th>status</th>\n      <th>tagline</th>\n      <th>title_x</th>\n      <th>vote_average</th>\n      <th>vote_count</th>\n      <th>title_y</th>\n      <th>cast</th>\n      <th>crew</th>\n    </tr>\n  </thead>\n  <tbody>\n    <tr>\n      <th>0</th>\n      <td>237000000</td>\n      <td>[{\"id\": 28, \"name\": \"Action\"}, {\"id\": 12, \"nam...</td>\n      <td>http://www.avatarmovie.com/</td>\n      <td>19995</td>\n      <td>[{\"id\": 1463, \"name\": \"culture clash\"}, {\"id\":...</td>\n      <td>en</td>\n      <td>Avatar</td>\n      <td>In the 22nd century, a paraplegic Marine is di...</td>\n      <td>150.437577</td>\n      <td>[{\"name\": \"Ingenious Film Partners\", \"id\": 289...</td>\n      <td>[{\"iso_3166_1\": \"US\", \"name\": \"United States o...</td>\n      <td>2009-12-10</td>\n      <td>2787965087</td>\n      <td>162.0</td>\n      <td>[{\"iso_639_1\": \"en\", \"name\": \"English\"}, {\"iso...</td>\n      <td>Released</td>\n      <td>Enter the World of Pandora.</td>\n      <td>Avatar</td>\n      <td>7.2</td>\n      <td>11800</td>\n      <td>Avatar</td>\n      <td>[{\"cast_id\": 242, \"character\": \"Jake Sully\", \"...</td>\n      <td>[{\"credit_id\": \"52fe48009251416c750aca23\", \"de...</td>\n    </tr>\n    <tr>\n      <th>1</th>\n      <td>300000000</td>\n      <td>[{\"id\": 12, \"name\": \"Adventure\"}, {\"id\": 14, \"...</td>\n      <td>http://disney.go.com/disneypictures/pirates/</td>\n      <td>285</td>\n      <td>[{\"id\": 270, \"name\": \"ocean\"}, {\"id\": 726, \"na...</td>\n      <td>en</td>\n      <td>Pirates of the Caribbean: At World's End</td>\n      <td>Captain Barbossa, long believed to be dead, ha...</td>\n      <td>139.082615</td>\n      <td>[{\"name\": \"Walt Disney Pictures\", \"id\": 2}, {\"...</td>\n      <td>[{\"iso_3166_1\": \"US\", \"name\": \"United States o...</td>\n      <td>2007-05-19</td>\n      <td>961000000</td>\n      <td>169.0</td>\n      <td>[{\"iso_639_1\": \"en\", \"name\": \"English\"}]</td>\n      <td>Released</td>\n      <td>At the end of the world, the adventure begins.</td>\n      <td>Pirates of the Caribbean: At World's End</td>\n      <td>6.9</td>\n      <td>4500</td>\n      <td>Pirates of the Caribbean: At World's End</td>\n      <td>[{\"cast_id\": 4, \"character\": \"Captain Jack Spa...</td>\n      <td>[{\"credit_id\": \"52fe4232c3a36847f800b579\", \"de...</td>\n    </tr>\n    <tr>\n      <th>2</th>\n      <td>245000000</td>\n      <td>[{\"id\": 28, \"name\": \"Action\"}, {\"id\": 12, \"nam...</td>\n      <td>http://www.sonypictures.com/movies/spectre/</td>\n      <td>206647</td>\n      <td>[{\"id\": 470, \"name\": \"spy\"}, {\"id\": 818, \"name...</td>\n      <td>en</td>\n      <td>Spectre</td>\n      <td>A cryptic message from Bond’s past sends him o...</td>\n      <td>107.376788</td>\n      <td>[{\"name\": \"Columbia Pictures\", \"id\": 5}, {\"nam...</td>\n      <td>[{\"iso_3166_1\": \"GB\", \"name\": \"United Kingdom\"...</td>\n      <td>2015-10-26</td>\n      <td>880674609</td>\n      <td>148.0</td>\n      <td>[{\"iso_639_1\": \"fr\", \"name\": \"Fran\\u00e7ais\"},...</td>\n      <td>Released</td>\n      <td>A Plan No One Escapes</td>\n      <td>Spectre</td>\n      <td>6.3</td>\n      <td>4466</td>\n      <td>Spectre</td>\n      <td>[{\"cast_id\": 1, \"character\": \"James Bond\", \"cr...</td>\n      <td>[{\"credit_id\": \"54805967c3a36829b5002c41\", \"de...</td>\n    </tr>\n  </tbody>\n</table>\n</div>"
          },
          "metadata": {}
        }
      ]
    },
    {
      "metadata": {
        "_uuid": "edac2bd51747dd8e3d84b4de4c62335495c76d4e"
      },
      "cell_type": "markdown",
      "source": "Recommend on the basis on popularity scores given."
    },
    {
      "metadata": {
        "trusted": true,
        "_uuid": "d698f0a731482ef8c9597c6c215dbf32906a353d"
      },
      "cell_type": "code",
      "source": "\npop = df2.sort_values(by='popularity',ascending=False)",
      "execution_count": 87,
      "outputs": []
    },
    {
      "metadata": {
        "trusted": true,
        "_uuid": "7ded0aeebf34d392d28fb72e12062155361a4f09"
      },
      "cell_type": "code",
      "source": "pop.head(6).plot.barh(x='original_title',y='popularity')",
      "execution_count": 88,
      "outputs": [
        {
          "output_type": "execute_result",
          "execution_count": 88,
          "data": {
            "text/plain": "<matplotlib.axes._subplots.AxesSubplot at 0x7fa9de73b9e8>"
          },
          "metadata": {}
        },
        {
          "output_type": "display_data",
          "data": {
            "text/plain": "<Figure size 432x288 with 1 Axes>",
            "image/png": "[encoded data removed]"
          },
          "metadata": {
            "needs_background": "light"
          }
        }
      ]
    },
    {
      "metadata": {
        "_uuid": "81b6949fcfc55417179f58429a783493cfb6215d"
      },
      "cell_type": "markdown",
      "source": "**Lets do the sorting according to the imdb formula**"
    },
    {
      "metadata": {
        "_uuid": "16caa6c58db1b8e180e2b58164a55f5707b8870b"
      },
      "cell_type": "markdown",
      "source": "We can use the average ratings of the movie as the score but using this won't be fair enough since a movie with 8.9 average rating and only 3 votes cannot be considered better than the movie with 7.8 as as average rating but 40 votes. So, I'll be using IMDB's weighted rating (wr) which is given as :-\n\nwhere,\n    wr  = (v/v+m)*R + (m/m+v)*C\n\nv is the number of votes for the movie;\nm is the minimum votes required to be listed in the chart;\nR is the average rating of the movie; And\nC is the mean vote across the whole report\nWe already have v(vote_count) and R (vote_average) and C can be calculated as"
    },
    {
      "metadata": {
        "trusted": true,
        "_uuid": "f8b0913d9dae31beaa8370b9b190d4e082d4fb1d"
      },
      "cell_type": "code",
      "source": "C = df2['vote_average'].mean()\nC",
      "execution_count": 89,
      "outputs": [
        {
          "output_type": "execute_result",
          "execution_count": 89,
          "data": {
            "text/plain": "6.092171559442011"
          },
          "metadata": {}
        }
      ]
    },
    {
      "metadata": {
        "_uuid": "87eb0698ff641286e939342d2b25b8d843647776"
      },
      "cell_type": "markdown",
      "source": "So, the mean rating for all the movies is approx 6 on a scale of 10.The next step is to determine an appropriate value for m, the minimum votes required to be listed in the chart. We will use 90th percentile as our cutoff. In other words, for a movie to feature in the charts, it must have more votes than at least 90% of the movies in the list."
    },
    {
      "metadata": {
        "trusted": true,
        "_uuid": "f5a9d8cd9d4467922ddc0faf5b03321d49a86f52"
      },
      "cell_type": "code",
      "source": "m= df2['vote_count'].quantile(0.9)\nm",
      "execution_count": 90,
      "outputs": [
        {
          "output_type": "execute_result",
          "execution_count": 90,
          "data": {
            "text/plain": "1838.4000000000015"
          },
          "metadata": {}
        }
      ]
    },
    {
      "metadata": {
        "trusted": true,
        "_uuid": "a8573e966e877bb12ce87091d1233e28033326a2"
      },
      "cell_type": "code",
      "source": "filt_df = df2[df2['vote_count']>=m]",
      "execution_count": 91,
      "outputs": []
    },
    {
      "metadata": {
        "trusted": true,
        "_uuid": "1de349c91da886ac5435d89bb99aa87412f20eb9"
      },
      "cell_type": "code",
      "source": "print (len(filt_df))",
      "execution_count": 92,
      "outputs": [
        {
          "output_type": "stream",
          "text": "481\n",
          "name": "stdout"
        }
      ]
    },
    {
      "metadata": {
        "trusted": true,
        "_uuid": "4e7e28a6a8242259a52d667a47a1239e1d8c87f7"
      },
      "cell_type": "code",
      "source": "def weighted_rating(x, m=m, C=C):\n    v = x['vote_count']\n    R = x['vote_average']\n    # Calculation based on the IMDB formula\n    return (v/(v+m) * R) + (m/(m+v) * C)",
      "execution_count": 93,
      "outputs": []
    },
    {
      "metadata": {
        "trusted": true,
        "_uuid": "debf1ebab993fb64c3e36bcd2e99852b50156f94"
      },
      "cell_type": "code",
      "source": "filt_df['score'] = filt_df.apply(weighted_rating,axis=1)",
      "execution_count": 94,
      "outputs": [
        {
          "output_type": "stream",
          "text": "/opt/conda/lib/python3.6/site-packages/ipykernel_launcher.py:1: SettingWithCopyWarning: \nA value is trying to be set on a copy of a slice from a DataFrame.\nTry using .loc[row_indexer,col_indexer] = value instead\n\nSee the caveats in the documentation: http://pandas.pydata.org/pandas-docs/stable/indexing.html#indexing-view-versus-copy\n  \"\"\"Entry point for launching an IPython kernel.\n",
          "name": "stderr"
        }
      ]
    },
    {
      "metadata": {
        "trusted": true,
        "_uuid": "51a79fcd17e68905f1176aa7d59d72f46ab58a3b"
      },
      "cell_type": "code",
      "source": "filt_df.head(3)",
      "execution_count": 95,
      "outputs": [
        {
          "output_type": "execute_result",
          "execution_count": 95,
          "data": {
            "text/plain": "      budget    ...        score\n0  237000000    ...     7.050669\n1  300000000    ...     6.665696\n2  245000000    ...     6.239396\n\n[3 rows x 24 columns]",
            "text/html": "<div>\n<style scoped>\n    .dataframe tbody tr th:only-of-type {\n        vertical-align: middle;\n    }\n\n    .dataframe tbody tr th {\n        vertical-align: top;\n    }\n\n    .dataframe thead th {\n        text-align: right;\n    }\n</style>\n<table border=\"1\" class=\"dataframe\">\n  <thead>\n    <tr style=\"text-align: right;\">\n      <th></th>\n      <th>budget</th>\n      <th>genres</th>\n      <th>homepage</th>\n      <th>id</th>\n      <th>keywords</th>\n      <th>original_language</th>\n      <th>original_title</th>\n      <th>overview</th>\n      <th>popularity</th>\n      <th>production_companies</th>\n      <th>production_countries</th>\n      <th>release_date</th>\n      <th>revenue</th>\n      <th>runtime</th>\n      <th>spoken_languages</th>\n      <th>status</th>\n      <th>tagline</th>\n      <th>title_x</th>\n      <th>vote_average</th>\n      <th>vote_count</th>\n      <th>title_y</th>\n      <th>cast</th>\n      <th>crew</th>\n      <th>score</th>\n    </tr>\n  </thead>\n  <tbody>\n    <tr>\n      <th>0</th>\n      <td>237000000</td>\n      <td>[{\"id\": 28, \"name\": \"Action\"}, {\"id\": 12, \"nam...</td>\n      <td>http://www.avatarmovie.com/</td>\n      <td>19995</td>\n      <td>[{\"id\": 1463, \"name\": \"culture clash\"}, {\"id\":...</td>\n      <td>en</td>\n      <td>Avatar</td>\n      <td>In the 22nd century, a paraplegic Marine is di...</td>\n      <td>150.437577</td>\n      <td>[{\"name\": \"Ingenious Film Partners\", \"id\": 289...</td>\n      <td>[{\"iso_3166_1\": \"US\", \"name\": \"United States o...</td>\n      <td>2009-12-10</td>\n      <td>2787965087</td>\n      <td>162.0</td>\n      <td>[{\"iso_639_1\": \"en\", \"name\": \"English\"}, {\"iso...</td>\n      <td>Released</td>\n      <td>Enter the World of Pandora.</td>\n      <td>Avatar</td>\n      <td>7.2</td>\n      <td>11800</td>\n      <td>Avatar</td>\n      <td>[{\"cast_id\": 242, \"character\": \"Jake Sully\", \"...</td>\n      <td>[{\"credit_id\": \"52fe48009251416c750aca23\", \"de...</td>\n      <td>7.050669</td>\n    </tr>\n    <tr>\n      <th>1</th>\n      <td>300000000</td>\n      <td>[{\"id\": 12, \"name\": \"Adventure\"}, {\"id\": 14, \"...</td>\n      <td>http://disney.go.com/disneypictures/pirates/</td>\n      <td>285</td>\n      <td>[{\"id\": 270, \"name\": \"ocean\"}, {\"id\": 726, \"na...</td>\n      <td>en</td>\n      <td>Pirates of the Caribbean: At World's End</td>\n      <td>Captain Barbossa, long believed to be dead, ha...</td>\n      <td>139.082615</td>\n      <td>[{\"name\": \"Walt Disney Pictures\", \"id\": 2}, {\"...</td>\n      <td>[{\"iso_3166_1\": \"US\", \"name\": \"United States o...</td>\n      <td>2007-05-19</td>\n      <td>961000000</td>\n      <td>169.0</td>\n      <td>[{\"iso_639_1\": \"en\", \"name\": \"English\"}]</td>\n      <td>Released</td>\n      <td>At the end of the world, the adventure begins.</td>\n      <td>Pirates of the Caribbean: At World's End</td>\n      <td>6.9</td>\n      <td>4500</td>\n      <td>Pirates of the Caribbean: At World's End</td>\n      <td>[{\"cast_id\": 4, \"character\": \"Captain Jack Spa...</td>\n      <td>[{\"credit_id\": \"52fe4232c3a36847f800b579\", \"de...</td>\n      <td>6.665696</td>\n    </tr>\n    <tr>\n      <th>2</th>\n      <td>245000000</td>\n      <td>[{\"id\": 28, \"name\": \"Action\"}, {\"id\": 12, \"nam...</td>\n      <td>http://www.sonypictures.com/movies/spectre/</td>\n      <td>206647</td>\n      <td>[{\"id\": 470, \"name\": \"spy\"}, {\"id\": 818, \"name...</td>\n      <td>en</td>\n      <td>Spectre</td>\n      <td>A cryptic message from Bond’s past sends him o...</td>\n      <td>107.376788</td>\n      <td>[{\"name\": \"Columbia Pictures\", \"id\": 5}, {\"nam...</td>\n      <td>[{\"iso_3166_1\": \"GB\", \"name\": \"United Kingdom\"...</td>\n      <td>2015-10-26</td>\n      <td>880674609</td>\n      <td>148.0</td>\n      <td>[{\"iso_639_1\": \"fr\", \"name\": \"Fran\\u00e7ais\"},...</td>\n      <td>Released</td>\n      <td>A Plan No One Escapes</td>\n      <td>Spectre</td>\n      <td>6.3</td>\n      <td>4466</td>\n      <td>Spectre</td>\n      <td>[{\"cast_id\": 1, \"character\": \"James Bond\", \"cr...</td>\n      <td>[{\"credit_id\": \"54805967c3a36829b5002c41\", \"de...</td>\n      <td>6.239396</td>\n    </tr>\n  </tbody>\n</table>\n</div>"
          },
          "metadata": {}
        }
      ]
    },
    {
      "metadata": {
        "trusted": true,
        "_uuid": "fd47c23dcf216d8bda4f474755e9abf63ab14ade"
      },
      "cell_type": "code",
      "source": "filt_df = filt_df.sort_values(by = 'score', ascending=False)",
      "execution_count": 96,
      "outputs": []
    },
    {
      "metadata": {
        "trusted": true,
        "_uuid": "e3727676107d6e541d6fb4def838ff17895e0c31"
      },
      "cell_type": "code",
      "source": "#Print the top 15 movies\nfilt_df[['original_title', 'vote_count', 'vote_average', 'score']].head(10)",
      "execution_count": 97,
      "outputs": [
        {
          "output_type": "execute_result",
          "execution_count": 97,
          "data": {
            "text/plain": "                                     original_title    ...        score\n1881                       The Shawshank Redemption    ...     8.059258\n662                                      Fight Club    ...     7.939256\n65                                  The Dark Knight    ...     7.920020\n3232                                   Pulp Fiction    ...     7.904645\n96                                        Inception    ...     7.863239\n3337                                  The Godfather    ...     7.851236\n95                                     Interstellar    ...     7.809479\n809                                    Forrest Gump    ...     7.803188\n329   The Lord of the Rings: The Return of the King    ...     7.727243\n1990                        The Empire Strikes Back    ...     7.697884\n\n[10 rows x 4 columns]",
            "text/html": "<div>\n<style scoped>\n    .dataframe tbody tr th:only-of-type {\n        vertical-align: middle;\n    }\n\n    .dataframe tbody tr th {\n        vertical-align: top;\n    }\n\n    .dataframe thead th {\n        text-align: right;\n    }\n</style>\n<table border=\"1\" class=\"dataframe\">\n  <thead>\n    <tr style=\"text-align: right;\">\n      <th></th>\n      <th>original_title</th>\n      <th>vote_count</th>\n      <th>vote_average</th>\n      <th>score</th>\n    </tr>\n  </thead>\n  <tbody>\n    <tr>\n      <th>1881</th>\n      <td>The Shawshank Redemption</td>\n      <td>8205</td>\n      <td>8.5</td>\n      <td>8.059258</td>\n    </tr>\n    <tr>\n      <th>662</th>\n      <td>Fight Club</td>\n      <td>9413</td>\n      <td>8.3</td>\n      <td>7.939256</td>\n    </tr>\n    <tr>\n      <th>65</th>\n      <td>The Dark Knight</td>\n      <td>12002</td>\n      <td>8.2</td>\n      <td>7.920020</td>\n    </tr>\n    <tr>\n      <th>3232</th>\n      <td>Pulp Fiction</td>\n      <td>8428</td>\n      <td>8.3</td>\n      <td>7.904645</td>\n    </tr>\n    <tr>\n      <th>96</th>\n      <td>Inception</td>\n      <td>13752</td>\n      <td>8.1</td>\n      <td>7.863239</td>\n    </tr>\n    <tr>\n      <th>3337</th>\n      <td>The Godfather</td>\n      <td>5893</td>\n      <td>8.4</td>\n      <td>7.851236</td>\n    </tr>\n    <tr>\n      <th>95</th>\n      <td>Interstellar</td>\n      <td>10867</td>\n      <td>8.1</td>\n      <td>7.809479</td>\n    </tr>\n    <tr>\n      <th>809</th>\n      <td>Forrest Gump</td>\n      <td>7927</td>\n      <td>8.2</td>\n      <td>7.803188</td>\n    </tr>\n    <tr>\n      <th>329</th>\n      <td>The Lord of the Rings: The Return of the King</td>\n      <td>8064</td>\n      <td>8.1</td>\n      <td>7.727243</td>\n    </tr>\n    <tr>\n      <th>1990</th>\n      <td>The Empire Strikes Back</td>\n      <td>5879</td>\n      <td>8.2</td>\n      <td>7.697884</td>\n    </tr>\n  </tbody>\n</table>\n</div>"
          },
          "metadata": {}
        }
      ]
    },
    {
      "metadata": {
        "_uuid": "97b2f63bdb671095c3152bf5d3d311b5f4d61064"
      },
      "cell_type": "markdown",
      "source": "**CONTENT BASED RECOMMENDATIONS**\nHere, we will be using the features listed for the movies for recommendations. We can use features like overview, cast, crew, genre etc,"
    },
    {
      "metadata": {
        "_uuid": "32aa40afad11062562815b9d50df97b29fde39d1"
      },
      "cell_type": "markdown",
      "source": "Initially predict from the overview of the movie itself. That, as we will see will not be giving the best recommendion results"
    },
    {
      "metadata": {
        "trusted": true,
        "_uuid": "85b5368a5ae6c612384aefbff20584a87589fa0c"
      },
      "cell_type": "code",
      "source": "df2['overview'].head()",
      "execution_count": 98,
      "outputs": [
        {
          "output_type": "execute_result",
          "execution_count": 98,
          "data": {
            "text/plain": "0    In the 22nd century, a paraplegic Marine is di...\n1    Captain Barbossa, long believed to be dead, ha...\n2    A cryptic message from Bond’s past sends him o...\n3    Following the death of District Attorney Harve...\n4    John Carter is a war-weary, former military ca...\nName: overview, dtype: object"
          },
          "metadata": {}
        }
      ]
    },
    {
      "metadata": {
        "trusted": true,
        "_uuid": "127acb16723e32fc2c056692e19a55f39b175810"
      },
      "cell_type": "code",
      "source": "from sklearn.feature_extraction.text import TfidfVectorizer\ntfidf = TfidfVectorizer(stop_words='english')\ndf2['overview'] = df2['overview'].fillna('')\ntfidf_matrix = tfidf.fit_transform(df2['overview'])\ntfidf_matrix.shape",
      "execution_count": 99,
      "outputs": [
        {
          "output_type": "execute_result",
          "execution_count": 99,
          "data": {
            "text/plain": "(4803, 20978)"
          },
          "metadata": {}
        }
      ]
    },
    {
      "metadata": {
        "trusted": true,
        "_uuid": "fbe09a2a18296ca78f865f310559c3bab5c43c01"
      },
      "cell_type": "code",
      "source": "# Import linear_kernel\nfrom sklearn.metrics.pairwise import linear_kernel\n\n# Compute the cosine similarity matrix\ncosine_sim = linear_kernel(tfidf_matrix, tfidf_matrix)",
      "execution_count": 100,
      "outputs": []
    },
    {
      "metadata": {
        "trusted": true,
        "_uuid": "40f25186e44184177b0662d648a12810472ea6ef"
      },
      "cell_type": "code",
      "source": "print (cosine_sim.shape)",
      "execution_count": 101,
      "outputs": [
        {
          "output_type": "stream",
          "text": "(4803, 4803)\n",
          "name": "stdout"
        }
      ]
    },
    {
      "metadata": {
        "trusted": true,
        "_uuid": "b040cf46b90017437d577dafbfbe2ab2e7a3c74c"
      },
      "cell_type": "code",
      "source": "print (cosine_sim[0])",
      "execution_count": 102,
      "outputs": [
        {
          "output_type": "stream",
          "text": "[1. 0. 0. ... 0. 0. 0.]\n",
          "name": "stdout"
        }
      ]
    },
    {
      "metadata": {
        "trusted": true,
        "_uuid": "46b4bd17a62caf715720987ab473d5c28ea0790e"
      },
      "cell_type": "code",
      "source": "#Construct a reverse map of indices and movie titles\nindices = pd.Series(df2.index, index=df2['original_title']).drop_duplicates()",
      "execution_count": 103,
      "outputs": []
    },
    {
      "metadata": {
        "trusted": true,
        "_uuid": "e982c2e3dcedddf9de57827bf3586e0cbcc7e982"
      },
      "cell_type": "code",
      "source": "# Function that takes in movie title as input and outputs most similar movies\ndef get_recommendations(title, cosine_sim=cosine_sim):\n    # Get the index of the movie that matches the title\n    idx = indices[title]\n\n    # Get the pairwsie similarity scores of all movies with that movie\n    sim_scores = list(enumerate(cosine_sim[idx]))\n\n    # Sort the movies based on the similarity scores\n    sim_scores = sorted(sim_scores, key=lambda x: x[1], reverse=True)\n\n    # Get the scores of the 10 most similar movies\n    sim_scores = sim_scores[1:11]\n\n    # Get the movie indices\n    movie_indices = [i[0] for i in sim_scores]\n\n    # Return the top 10 most similar movies\n    return df2['original_title'].iloc[movie_indices]",
      "execution_count": 104,
      "outputs": []
    },
    {
      "metadata": {
        "trusted": true,
        "_uuid": "54c40a2067718e63d607728190a0e9055ca8f6b7"
      },
      "cell_type": "code",
      "source": "get_recommendations('The Dark Knight Rises')",
      "execution_count": 105,
      "outputs": [
        {
          "output_type": "execute_result",
          "execution_count": 105,
          "data": {
            "text/plain": "65                              The Dark Knight\n299                              Batman Forever\n428                              Batman Returns\n1359                                     Batman\n3854    Batman: The Dark Knight Returns, Part 2\n119                               Batman Begins\n2507                                  Slow Burn\n9            Batman v Superman: Dawn of Justice\n1181                                        JFK\n210                              Batman & Robin\nName: original_title, dtype: object"
          },
          "metadata": {}
        }
      ]
    },
    {
      "metadata": {
        "trusted": true,
        "_uuid": "12f976cae774d193c9ab5118d172baa3069e26df"
      },
      "cell_type": "code",
      "source": "get_recommendations('The Avengers')",
      "execution_count": 106,
      "outputs": [
        {
          "output_type": "execute_result",
          "execution_count": 106,
          "data": {
            "text/plain": "7               Avengers: Age of Ultron\n3144                            Plastic\n1715                            Timecop\n4124                 This Thing of Ours\n3311              Thank You for Smoking\n3033                      The Corruptor\n588     Wall Street: Money Never Sleeps\n2136         Team America: World Police\n1468                       The Fountain\n1286                        Snowpiercer\nName: original_title, dtype: object"
          },
          "metadata": {}
        }
      ]
    },
    {
      "metadata": {
        "_uuid": "929c423e11a68f3ed585cd6a464de6134fc23ef4"
      },
      "cell_type": "markdown",
      "source": "**Content filtering based on credits, generes and keywords**"
    },
    {
      "metadata": {
        "trusted": true,
        "_uuid": "b68936cb4d81bdaf5dd7fcc919527d41fee54307"
      },
      "cell_type": "code",
      "source": "from ast import literal_eval\n\nfeatures = ['cast', 'crew', 'keywords', 'genres']\nfor f in features:\n    df2[f] = df2[f].apply(literal_eval)",
      "execution_count": 107,
      "outputs": []
    },
    {
      "metadata": {
        "trusted": true,
        "_uuid": "75ae45715236c7a0501d75597ff960b109d403f2"
      },
      "cell_type": "code",
      "source": "df2.head(5)",
      "execution_count": 108,
      "outputs": [
        {
          "output_type": "execute_result",
          "execution_count": 108,
          "data": {
            "text/plain": "      budget                        ...                                                                       crew\n0  237000000                        ...                          [{'credit_id': '52fe48009251416c750aca23', 'de...\n1  300000000                        ...                          [{'credit_id': '52fe4232c3a36847f800b579', 'de...\n2  245000000                        ...                          [{'credit_id': '54805967c3a36829b5002c41', 'de...\n3  250000000                        ...                          [{'credit_id': '52fe4781c3a36847f81398c3', 'de...\n4  260000000                        ...                          [{'credit_id': '52fe479ac3a36847f813eaa3', 'de...\n\n[5 rows x 23 columns]",
            "text/html": "<div>\n<style scoped>\n    .dataframe tbody tr th:only-of-type {\n        vertical-align: middle;\n    }\n\n    .dataframe tbody tr th {\n        vertical-align: top;\n    }\n\n    .dataframe thead th {\n        text-align: right;\n    }\n</style>\n<table border=\"1\" class=\"dataframe\">\n  <thead>\n    <tr style=\"text-align: right;\">\n      <th></th>\n      <th>budget</th>\n      <th>genres</th>\n      <th>homepage</th>\n      <th>id</th>\n      <th>keywords</th>\n      <th>original_language</th>\n      <th>original_title</th>\n      <th>overview</th>\n      <th>popularity</th>\n      <th>production_companies</th>\n      <th>production_countries</th>\n      <th>release_date</th>\n      <th>revenue</th>\n      <th>runtime</th>\n      <th>spoken_languages</th>\n      <th>status</th>\n      <th>tagline</th>\n      <th>title_x</th>\n      <th>vote_average</th>\n      <th>vote_count</th>\n      <th>title_y</th>\n      <th>cast</th>\n      <th>crew</th>\n    </tr>\n  </thead>\n  <tbody>\n    <tr>\n      <th>0</th>\n      <td>237000000</td>\n      <td>[{'id': 28, 'name': 'Action'}, {'id': 12, 'nam...</td>\n      <td>http://www.avatarmovie.com/</td>\n      <td>19995</td>\n      <td>[{'id': 1463, 'name': 'culture clash'}, {'id':...</td>\n      <td>en</td>\n      <td>Avatar</td>\n      <td>In the 22nd century, a paraplegic Marine is di...</td>\n      <td>150.437577</td>\n      <td>[{\"name\": \"Ingenious Film Partners\", \"id\": 289...</td>\n      <td>[{\"iso_3166_1\": \"US\", \"name\": \"United States o...</td>\n      <td>2009-12-10</td>\n      <td>2787965087</td>\n      <td>162.0</td>\n      <td>[{\"iso_639_1\": \"en\", \"name\": \"English\"}, {\"iso...</td>\n      <td>Released</td>\n      <td>Enter the World of Pandora.</td>\n      <td>Avatar</td>\n      <td>7.2</td>\n      <td>11800</td>\n      <td>Avatar</td>\n      <td>[{'cast_id': 242, 'character': 'Jake Sully', '...</td>\n      <td>[{'credit_id': '52fe48009251416c750aca23', 'de...</td>\n    </tr>\n    <tr>\n      <th>1</th>\n      <td>300000000</td>\n      <td>[{'id': 12, 'name': 'Adventure'}, {'id': 14, '...</td>\n      <td>http://disney.go.com/disneypictures/pirates/</td>\n      <td>285</td>\n      <td>[{'id': 270, 'name': 'ocean'}, {'id': 726, 'na...</td>\n      <td>en</td>\n      <td>Pirates of the Caribbean: At World's End</td>\n      <td>Captain Barbossa, long believed to be dead, ha...</td>\n      <td>139.082615</td>\n      <td>[{\"name\": \"Walt Disney Pictures\", \"id\": 2}, {\"...</td>\n      <td>[{\"iso_3166_1\": \"US\", \"name\": \"United States o...</td>\n      <td>2007-05-19</td>\n      <td>961000000</td>\n      <td>169.0</td>\n      <td>[{\"iso_639_1\": \"en\", \"name\": \"English\"}]</td>\n      <td>Released</td>\n      <td>At the end of the world, the adventure begins.</td>\n      <td>Pirates of the Caribbean: At World's End</td>\n      <td>6.9</td>\n      <td>4500</td>\n      <td>Pirates of the Caribbean: At World's End</td>\n      <td>[{'cast_id': 4, 'character': 'Captain Jack Spa...</td>\n      <td>[{'credit_id': '52fe4232c3a36847f800b579', 'de...</td>\n    </tr>\n    <tr>\n      <th>2</th>\n      <td>245000000</td>\n      <td>[{'id': 28, 'name': 'Action'}, {'id': 12, 'nam...</td>\n      <td>http://www.sonypictures.com/movies/spectre/</td>\n      <td>206647</td>\n      <td>[{'id': 470, 'name': 'spy'}, {'id': 818, 'name...</td>\n      <td>en</td>\n      <td>Spectre</td>\n      <td>A cryptic message from Bond’s past sends him o...</td>\n      <td>107.376788</td>\n      <td>[{\"name\": \"Columbia Pictures\", \"id\": 5}, {\"nam...</td>\n      <td>[{\"iso_3166_1\": \"GB\", \"name\": \"United Kingdom\"...</td>\n      <td>2015-10-26</td>\n      <td>880674609</td>\n      <td>148.0</td>\n      <td>[{\"iso_639_1\": \"fr\", \"name\": \"Fran\\u00e7ais\"},...</td>\n      <td>Released</td>\n      <td>A Plan No One Escapes</td>\n      <td>Spectre</td>\n      <td>6.3</td>\n      <td>4466</td>\n      <td>Spectre</td>\n      <td>[{'cast_id': 1, 'character': 'James Bond', 'cr...</td>\n      <td>[{'credit_id': '54805967c3a36829b5002c41', 'de...</td>\n    </tr>\n    <tr>\n      <th>3</th>\n      <td>250000000</td>\n      <td>[{'id': 28, 'name': 'Action'}, {'id': 80, 'nam...</td>\n      <td>http://www.thedarkknightrises.com/</td>\n      <td>49026</td>\n      <td>[{'id': 849, 'name': 'dc comics'}, {'id': 853,...</td>\n      <td>en</td>\n      <td>The Dark Knight Rises</td>\n      <td>Following the death of District Attorney Harve...</td>\n      <td>112.312950</td>\n      <td>[{\"name\": \"Legendary Pictures\", \"id\": 923}, {\"...</td>\n      <td>[{\"iso_3166_1\": \"US\", \"name\": \"United States o...</td>\n      <td>2012-07-16</td>\n      <td>1084939099</td>\n      <td>165.0</td>\n      <td>[{\"iso_639_1\": \"en\", \"name\": \"English\"}]</td>\n      <td>Released</td>\n      <td>The Legend Ends</td>\n      <td>The Dark Knight Rises</td>\n      <td>7.6</td>\n      <td>9106</td>\n      <td>The Dark Knight Rises</td>\n      <td>[{'cast_id': 2, 'character': 'Bruce Wayne / Ba...</td>\n      <td>[{'credit_id': '52fe4781c3a36847f81398c3', 'de...</td>\n    </tr>\n    <tr>\n      <th>4</th>\n      <td>260000000</td>\n      <td>[{'id': 28, 'name': 'Action'}, {'id': 12, 'nam...</td>\n      <td>http://movies.disney.com/john-carter</td>\n      <td>49529</td>\n      <td>[{'id': 818, 'name': 'based on novel'}, {'id':...</td>\n      <td>en</td>\n      <td>John Carter</td>\n      <td>John Carter is a war-weary, former military ca...</td>\n      <td>43.926995</td>\n      <td>[{\"name\": \"Walt Disney Pictures\", \"id\": 2}]</td>\n      <td>[{\"iso_3166_1\": \"US\", \"name\": \"United States o...</td>\n      <td>2012-03-07</td>\n      <td>284139100</td>\n      <td>132.0</td>\n      <td>[{\"iso_639_1\": \"en\", \"name\": \"English\"}]</td>\n      <td>Released</td>\n      <td>Lost in our world, found in another.</td>\n      <td>John Carter</td>\n      <td>6.1</td>\n      <td>2124</td>\n      <td>John Carter</td>\n      <td>[{'cast_id': 5, 'character': 'John Carter', 'c...</td>\n      <td>[{'credit_id': '52fe479ac3a36847f813eaa3', 'de...</td>\n    </tr>\n  </tbody>\n</table>\n</div>"
          },
          "metadata": {}
        }
      ]
    },
    {
      "metadata": {
        "trusted": true,
        "_uuid": "00ea2dcb857c2b56dc0e2d56d69fa01e2719aff5"
      },
      "cell_type": "code",
      "source": "# Get the director's name from the crew feature. If director is not listed, return NaN\ndef get_director(x):\n    for i in x:\n        if i['job'] == 'Director':\n            return i['name']\n    return np.nan",
      "execution_count": 109,
      "outputs": []
    },
    {
      "metadata": {
        "trusted": true,
        "_uuid": "252cfc8b951b490ff9cbdd84704327415a7288c4"
      },
      "cell_type": "code",
      "source": "def get_list(x):\n    if isinstance(x, list):\n        names = [i['name'] for i in x]\n        if len(names)>3:\n            names = names[:3]\n        return names\n    return []",
      "execution_count": 110,
      "outputs": []
    },
    {
      "metadata": {
        "trusted": true,
        "_uuid": "4ebaaf3fa6b3c8e607f08890d75eaace3a7cadad"
      },
      "cell_type": "code",
      "source": "df2['director'] = df2['crew'].apply(get_director)\nfeatures = ['cast', 'keywords', 'genres']\nfor feature in features:\n    df2[feature] = df2[feature].apply(get_list)",
      "execution_count": 111,
      "outputs": []
    },
    {
      "metadata": {
        "trusted": true,
        "_uuid": "30fba4ba8602c7ffc0bcf7b54f9978e912855b32"
      },
      "cell_type": "code",
      "source": "df2[['original_title', 'cast', 'director', 'keywords', 'genres']].head(3)",
      "execution_count": 112,
      "outputs": [
        {
          "output_type": "execute_result",
          "execution_count": 112,
          "data": {
            "text/plain": "                             original_title              ...                                     genres\n0                                    Avatar              ...               [Action, Adventure, Fantasy]\n1  Pirates of the Caribbean: At World's End              ...               [Adventure, Fantasy, Action]\n2                                   Spectre              ...                 [Action, Adventure, Crime]\n\n[3 rows x 5 columns]",
            "text/html": "<div>\n<style scoped>\n    .dataframe tbody tr th:only-of-type {\n        vertical-align: middle;\n    }\n\n    .dataframe tbody tr th {\n        vertical-align: top;\n    }\n\n    .dataframe thead th {\n        text-align: right;\n    }\n</style>\n<table border=\"1\" class=\"dataframe\">\n  <thead>\n    <tr style=\"text-align: right;\">\n      <th></th>\n      <th>original_title</th>\n      <th>cast</th>\n      <th>director</th>\n      <th>keywords</th>\n      <th>genres</th>\n    </tr>\n  </thead>\n  <tbody>\n    <tr>\n      <th>0</th>\n      <td>Avatar</td>\n      <td>[Sam Worthington, Zoe Saldana, Sigourney Weaver]</td>\n      <td>James Cameron</td>\n      <td>[culture clash, future, space war]</td>\n      <td>[Action, Adventure, Fantasy]</td>\n    </tr>\n    <tr>\n      <th>1</th>\n      <td>Pirates of the Caribbean: At World's End</td>\n      <td>[Johnny Depp, Orlando Bloom, Keira Knightley]</td>\n      <td>Gore Verbinski</td>\n      <td>[ocean, drug abuse, exotic island]</td>\n      <td>[Adventure, Fantasy, Action]</td>\n    </tr>\n    <tr>\n      <th>2</th>\n      <td>Spectre</td>\n      <td>[Daniel Craig, Christoph Waltz, Léa Seydoux]</td>\n      <td>Sam Mendes</td>\n      <td>[spy, based on novel, secret agent]</td>\n      <td>[Action, Adventure, Crime]</td>\n    </tr>\n  </tbody>\n</table>\n</div>"
          },
          "metadata": {}
        }
      ]
    },
    {
      "metadata": {
        "trusted": true,
        "_uuid": "1dc73c450475a740bb050406aedf96473f7ff58e"
      },
      "cell_type": "code",
      "source": "def clean_data(x):\n    if isinstance(x,list):\n        x = [str.lower(i.replace(\" \", \"\"))  for i in x]\n        return x\n    else:\n        if isinstance(x,str):\n            x = str.lower(x.replace(\" \", \"\"))\n            return x\n        else:\n            return ''",
      "execution_count": 113,
      "outputs": []
    },
    {
      "metadata": {
        "trusted": true,
        "_uuid": "7bdc684573261f38af613b43eb082155e2ff7cad"
      },
      "cell_type": "code",
      "source": "features = ['cast', 'keywords', 'director', 'genres']\n\nfor feature in features:\n    df2[feature] = df2[feature].apply(clean_data)",
      "execution_count": 114,
      "outputs": []
    },
    {
      "metadata": {
        "trusted": true,
        "_uuid": "93c2279562057dd80b214672eee741ffb0a3124f"
      },
      "cell_type": "code",
      "source": "def create_soup(x):\n    return ' '.join(x['keywords']) + ' ' + ' '.join(x['cast']) + ' ' + x['director'] + ' ' + ' '.join(x['genres'])\ndf2['soup'] = df2.apply(create_soup, axis=1)",
      "execution_count": 115,
      "outputs": []
    },
    {
      "metadata": {
        "trusted": true,
        "_uuid": "901b5ecf64b2ffe900a6156e32825cf8e1599bfd"
      },
      "cell_type": "code",
      "source": "# Import CountVectorizer and create the count matrix\nfrom sklearn.feature_extraction.text import CountVectorizer\n\ncount = CountVectorizer(stop_words='english')\ncount_matrix = count.fit_transform(df2['soup'])",
      "execution_count": 116,
      "outputs": []
    },
    {
      "metadata": {
        "trusted": true,
        "_uuid": "974b3eb3e6e94e8f8232553d0d4c7c87e8b13556"
      },
      "cell_type": "code",
      "source": "# Compute the Cosine Similarity matrix based on the count_matrix\nfrom sklearn.metrics.pairwise import cosine_similarity\n\ncosine_sim2 = cosine_similarity(count_matrix, count_matrix)",
      "execution_count": 117,
      "outputs": []
    },
    {
      "metadata": {
        "trusted": true,
        "_uuid": "9b39272c2b94186a2214bc4bdc0f649c989161ca"
      },
      "cell_type": "code",
      "source": "# Reset index of our main DataFrame and construct reverse mapping as before\ndf2 = df2.reset_index()\nindices = pd.Series(df2.index, index=df2['original_title'])",
      "execution_count": 118,
      "outputs": []
    },
    {
      "metadata": {
        "trusted": true,
        "_uuid": "bb98c1a8905edd0d46d6244a49ec78b618b9de88"
      },
      "cell_type": "code",
      "source": "get_recommendations('The Dark Knight Rises', cosine_sim2)",
      "execution_count": 119,
      "outputs": [
        {
          "output_type": "execute_result",
          "execution_count": 119,
          "data": {
            "text/plain": "65               The Dark Knight\n119                Batman Begins\n4638    Amidst the Devil's Wings\n1196                The Prestige\n3073           Romeo Is Bleeding\n3326              Black November\n1503                      Takers\n1986                      Faster\n303                     Catwoman\n747               Gangster Squad\nName: original_title, dtype: object"
          },
          "metadata": {}
        }
      ]
    },
    {
      "metadata": {
        "trusted": true,
        "_uuid": "8dddce11574c1f4690f3c3150f41c1a77b287482"
      },
      "cell_type": "code",
      "source": "get_recommendations('The Godfather', cosine_sim2)",
      "execution_count": 120,
      "outputs": [
        {
          "output_type": "execute_result",
          "execution_count": 120,
          "data": {
            "text/plain": "867      The Godfather: Part III\n2731      The Godfather: Part II\n4638    Amidst the Devil's Wings\n2649           The Son of No One\n1525              Apocalypse Now\n1018             The Cotton Club\n1170     The Talented Mr. Ripley\n1209               The Rainmaker\n1394               Donnie Brasco\n1850                    Scarface\nName: original_title, dtype: object"
          },
          "metadata": {}
        }
      ]
    },
    {
      "metadata": {
        "trusted": true,
        "_uuid": "ca7ec52cd1713d72289b2949b54d9cdc9b261d9d"
      },
      "cell_type": "code",
      "source": "",
      "execution_count": null,
      "outputs": []
    }
  ],
  "metadata": {
    "kernelspec": {
      "display_name": "Python 3",
      "language": "python",
      "name": "python3"
    },
    "language_info": {
      "name": "python",
      "version": "3.6.6",
      "mimetype": "text/x-python",
      "codemirror_mode": {
        "name": "ipython",
        "version": 3
      },
      "pygments_lexer": "ipython3",
      "nbconvert_exporter": "python",
      "file_extension": ".py"
    }
  },
  "nbformat": 4,
  "nbformat_minor": 1
}